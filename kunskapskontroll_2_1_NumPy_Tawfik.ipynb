{
 "cells": [
  {
   "cell_type": "markdown",
   "id": "dacf74e6",
   "metadata": {},
   "source": [
    "# NumPy"
   ]
  },
  {
   "cell_type": "markdown",
   "id": "01b2bf34",
   "metadata": {},
   "source": [
    "Read the links: https://numpy.org/doc/stable/user/quickstart.html  and https://numpy.org/doc/stable/user/basics.broadcasting.html  before solving the exercises. "
   ]
  },
  {
   "cell_type": "code",
   "execution_count": 1,
   "id": "1f79e4a6",
   "metadata": {},
   "outputs": [],
   "source": [
    "import numpy as np"
   ]
  },
  {
   "cell_type": "markdown",
   "id": "7dae6889",
   "metadata": {},
   "source": [
    "### Print out the dimension (number of axes), shape, size and the datatype of the matrix A."
   ]
  },
  {
   "cell_type": "code",
   "execution_count": 4,
   "id": "7b3678cd",
   "metadata": {},
   "outputs": [],
   "source": [
    "A = np.arange(1, 16).reshape(3,5)"
   ]
  },
  {
   "cell_type": "code",
   "execution_count": 9,
   "id": "f7027718-470f-45d3-b4b3-b91f764b6b84",
   "metadata": {},
   "outputs": [
    {
     "name": "stdout",
     "output_type": "stream",
     "text": [
      "[ 1  2  3  4  5  6  7  8  9 10 11 12 13 14 15]\n"
     ]
    }
   ],
   "source": [
    "#Generate array from 1 to 15\n",
    "B=np.arange(1,16)\n",
    "print(B)"
   ]
  },
  {
   "cell_type": "code",
   "execution_count": 13,
   "id": "31d39235",
   "metadata": {
    "scrolled": true
   },
   "outputs": [
    {
     "name": "stdout",
     "output_type": "stream",
     "text": [
      "[[ 1  2  3  4  5]\n",
      " [ 6  7  8  9 10]\n",
      " [11 12 13 14 15]]\n"
     ]
    }
   ],
   "source": [
    "#From Array B put it in a matrix with 3 blocks of 5 values (3x5=15 values)\n",
    "print(A)"
   ]
  },
  {
   "cell_type": "markdown",
   "id": "e56d2a96",
   "metadata": {},
   "source": [
    "### Do the following computations on the matrices B and C: \n",
    "* Elementwise subtraction. \n",
    "* Elementwise multiplication. \n",
    "* Matrix multiplication (by default you should use the @ operator)."
   ]
  },
  {
   "cell_type": "code",
   "execution_count": 24,
   "id": "6792da5d-015e-4c9f-b93c-72ac5e443733",
   "metadata": {},
   "outputs": [
    {
     "name": "stdout",
     "output_type": "stream",
     "text": [
      "[[1. 1. 1.]\n",
      " [1. 1. 1.]\n",
      " [1. 1. 1.]]\n"
     ]
    }
   ],
   "source": [
    "K = np.ones((3,3))\n",
    "print(K)"
   ]
  },
  {
   "cell_type": "code",
   "execution_count": 11,
   "id": "a7053fbb",
   "metadata": {},
   "outputs": [
    {
     "name": "stdout",
     "output_type": "stream",
     "text": [
      "[[1 2 3]\n",
      " [4 5 6]\n",
      " [7 8 9]]\n",
      "\n",
      "[[2. 2. 2.]\n",
      " [2. 2. 2.]\n",
      " [2. 2. 2.]]\n"
     ]
    }
   ],
   "source": [
    "# Generate an array with number from 1 t0 9, and put this array in a matrix with a 3x raws and 3 columns\n",
    "B = np.arange(1, 10).reshape(3, 3)\n",
    "# generate a matrix with 3 blocks of 3 values (3x3=9 values)\n",
    "C = np.ones((3, 3))*2\n",
    "\n",
    "print(B)\n",
    "print()\n",
    "print(C)"
   ]
  },
  {
   "cell_type": "markdown",
   "id": "96030d53",
   "metadata": {},
   "source": [
    "### Do the following calculations on the matrix:\n",
    "* Exponentiate each number elementwise (use the np.exp function).\n",
    "\n",
    "* Calculate the minimum value in the whole matrix. \n",
    "* Calculcate the minimum value in each row. \n",
    "* Calculcate the minimum value in each column. \n",
    "\n",
    "\n",
    "* Find the index value for the minimum value in the whole matrix (hint: use np.argmin).\n",
    "* Find the index value for the minimum value in each row (hint: use np.argmin).\n",
    "\n",
    "\n",
    "* Calculate the sum for all elements.\n",
    "* Calculate the mean for each column. \n",
    "* Calculate the median for each column. "
   ]
  },
  {
   "cell_type": "code",
   "execution_count": 27,
   "id": "f8a9166b",
   "metadata": {},
   "outputs": [
    {
     "name": "stdout",
     "output_type": "stream",
     "text": [
      "[[1 2 3]\n",
      " [4 5 6]\n",
      " [7 8 9]]\n"
     ]
    }
   ],
   "source": [
    "B = np.arange(1, 10).reshape(3, 3)\n",
    "print(B)"
   ]
  },
  {
   "cell_type": "markdown",
   "id": "541eb7ba",
   "metadata": {},
   "source": [
    "### What does it mean when you provide fewer indices than axes when slicing? See example below."
   ]
  },
  {
   "cell_type": "code",
   "execution_count": 30,
   "id": "9c8abf56",
   "metadata": {},
   "outputs": [
    {
     "name": "stdout",
     "output_type": "stream",
     "text": [
      "[[ 1  2  3  4  5]\n",
      " [ 6  7  8  9 10]\n",
      " [11 12 13 14 15]]\n"
     ]
    }
   ],
   "source": [
    "print(A)"
   ]
  },
  {
   "cell_type": "code",
   "execution_count": 32,
   "id": "69415f7b",
   "metadata": {},
   "outputs": [
    {
     "data": {
      "text/plain": [
       "array([ 6,  7,  8,  9, 10])"
      ]
     },
     "execution_count": 32,
     "metadata": {},
     "output_type": "execute_result"
    }
   ],
   "source": [
    "A[1]"
   ]
  },
  {
   "cell_type": "markdown",
   "id": "6c53541b",
   "metadata": {},
   "source": [
    "**Answer:**"
   ]
  },
  {
   "cell_type": "code",
   "execution_count": 40,
   "id": "de01e120",
   "metadata": {
    "scrolled": true
   },
   "outputs": [],
   "source": [
    "#This is the second raw of the Matrix A\n",
    "# where first raw is A[0], and thirs raw is A[2]"
   ]
  },
  {
   "cell_type": "markdown",
   "id": "6652d0c9",
   "metadata": {},
   "source": [
    "### Iterating over multidimensional arrays is done with respect to the first axis, so in the example below we iterate trough the rows. If you would like to iterate through the array *elementwise*, how would you do that?"
   ]
  },
  {
   "cell_type": "code",
   "execution_count": 42,
   "id": "9459864f",
   "metadata": {},
   "outputs": [
    {
     "data": {
      "text/plain": [
       "array([[ 1,  2,  3,  4,  5],\n",
       "       [ 6,  7,  8,  9, 10],\n",
       "       [11, 12, 13, 14, 15]])"
      ]
     },
     "execution_count": 42,
     "metadata": {},
     "output_type": "execute_result"
    }
   ],
   "source": [
    "A"
   ]
  },
  {
   "cell_type": "code",
   "execution_count": 44,
   "id": "a671bb5a",
   "metadata": {},
   "outputs": [
    {
     "name": "stdout",
     "output_type": "stream",
     "text": [
      "[1 2 3 4 5]\n",
      "[ 6  7  8  9 10]\n",
      "[11 12 13 14 15]\n"
     ]
    }
   ],
   "source": [
    "for i in A:\n",
    "    print(i)"
   ]
  },
  {
   "cell_type": "markdown",
   "id": "608a2583",
   "metadata": {},
   "source": [
    "### Explain what the code below does. More specifically, b has three axes - what does this mean? "
   ]
  },
  {
   "cell_type": "code",
   "execution_count": 56,
   "id": "f8f9b26f",
   "metadata": {},
   "outputs": [
    {
     "name": "stdout",
     "output_type": "stream",
     "text": [
      "[ 0  1  2  3  4  5  6  7  8  9 10 11 12 13 14 15 16 17 18 19 20 21 22 23\n",
      " 24 25 26 27 28 29]\n",
      "\n",
      "[[[ 0  1  2  3  4]\n",
      "  [ 5  6  7  8  9]\n",
      "  [10 11 12 13 14]]\n",
      "\n",
      " [[15 16 17 18 19]\n",
      "  [20 21 22 23 24]\n",
      "  [25 26 27 28 29]]]\n"
     ]
    }
   ],
   "source": [
    "a = np.arange(30)\n",
    "b= a.reshape((2, 3, -1))\n",
    "print(a)\n",
    "print()\n",
    "\n",
    "print(b)"
   ]
  },
  {
   "cell_type": "code",
   "execution_count": 62,
   "id": "863a45df",
   "metadata": {},
   "outputs": [],
   "source": [
    "# a is a array from 1 to 29\n",
    "# b=a.reshape((2,3)) will not work as we cannot have 2 blocks of 3 values (2x3=6 values and we have 30 values)\n",
    "# b=a.reshape((2,3,5)) will work as 2x3x5 = 30 values\n",
    "# b=a.reshape((2,3,-1)) \n"
   ]
  },
  {
   "cell_type": "code",
   "execution_count": 64,
   "id": "ac5244ab-c37e-4448-98c2-252b81e987d4",
   "metadata": {},
   "outputs": [
    {
     "name": "stdout",
     "output_type": "stream",
     "text": [
      "[[[ 0  1  2  3  4]\n",
      "  [ 5  6  7  8  9]\n",
      "  [10 11 12 13 14]]\n",
      "\n",
      " [[15 16 17 18 19]\n",
      "  [20 21 22 23 24]\n",
      "  [25 26 27 28 29]]]\n"
     ]
    }
   ],
   "source": [
    "m = a.reshape((2,3,5))\n",
    "print(m)"
   ]
  },
  {
   "cell_type": "markdown",
   "id": "421c9607-819a-401d-949a-97424436fe29",
   "metadata": {},
   "source": [
    "# For the exercises below, read the document *\"matematik_yh_antonio_vektorer_matriser_utdrag\"*\n",
    "# Solutions to the exercises and recorded videos can be found here: https://github.com/AntonioPrgomet/matematik_foer_yh\n",
    "\n",
    "# If you find the exercises below very hard, do not worry. Try your best, that will be enough. "
   ]
  },
  {
   "cell_type": "markdown",
   "id": "ab5933d5",
   "metadata": {},
   "source": [
    "### Broadcasting\n",
    "**Read the following link about broadcasting: https://numpy.org/doc/stable/user/basics.broadcasting.html#basics-broadcasting**"
   ]
  },
  {
   "cell_type": "markdown",
   "id": "039805ba",
   "metadata": {},
   "source": [
    "# Remark on Broadcasting when doing Linear Algebra calculations in Python. "
   ]
  },
  {
   "cell_type": "markdown",
   "id": "c4bcc147",
   "metadata": {},
   "source": [
    "### From the mathematical rules of matrix addition, the operation below (m1 + m2) does not make sense. The reason is that matrix addition requires two matrices of the same size. In Python however, it works due to broadcasting rules in NumPy. So you must be careful when doing Linear Algebra calculations in Python since they do not follow the \"mathematical rules\". This can however easily be handled by doing some simple programming, for example validating that two matrices have the same shape is easy if you for instance want to add two matrices. "
   ]
  },
  {
   "cell_type": "code",
   "execution_count": 67,
   "id": "1fd46778",
   "metadata": {},
   "outputs": [
    {
     "name": "stdout",
     "output_type": "stream",
     "text": [
      "[[2 3]\n",
      " [4 5]]\n"
     ]
    }
   ],
   "source": [
    "m1 = np.array([[1, 2], [3, 4]])\n",
    "m2 = np.array([1, 1])\n",
    "print(m1 + m2)"
   ]
  },
  {
   "cell_type": "markdown",
   "id": "047d6576",
   "metadata": {},
   "source": [
    "### The example below would also not be allowed if following the \"mathematical rules\" in Linear Algebra. But it works due to broadcasting in NumPy. "
   ]
  },
  {
   "cell_type": "code",
   "execution_count": 69,
   "id": "5e6ef2e4",
   "metadata": {},
   "outputs": [
    {
     "name": "stdout",
     "output_type": "stream",
     "text": [
      "[2 3 4]\n"
     ]
    }
   ],
   "source": [
    "v1 = np.array([1, 2, 3])\n",
    "print(v1 + 1)"
   ]
  },
  {
   "cell_type": "code",
   "execution_count": 71,
   "id": "e2cbae26",
   "metadata": {},
   "outputs": [
    {
     "name": "stdout",
     "output_type": "stream",
     "text": [
      "[[1 2]\n",
      " [3 4]]\n",
      "[2 2]\n"
     ]
    }
   ],
   "source": [
    "A = np.arange(1, 5).reshape(2,2)\n",
    "print(A)\n",
    "\n",
    "b = np.array([2, 2])\n",
    "print(b)"
   ]
  },
  {
   "cell_type": "markdown",
   "id": "722fd5cd",
   "metadata": {},
   "source": [
    "# Vector- and matrix algebra Exercises"
   ]
  },
  {
   "cell_type": "markdown",
   "id": "b63a3081-d976-4d9f-bfd0-a63917e79f7d",
   "metadata": {},
   "source": [
    "**Now you are going to create a function that can be reused every time you add or multiply matrices. The function is created so that we do the addition and multiplication according to the rules of vector- and matrix algebra.**\n",
    "\n",
    "**Create a function \"add_mult_matrices\" that takes two matrices as input arguments (validate that the input are of the type numpy.ndarray by using the isinstance function), a third argument that is either 'add' or 'multiply' that specifies if you want to add or multiply the matrices (validate that the third argument is either 'add' or 'multiply'). When doing matrix addition, validate that the matrices have the same size. When doing matrix multiplication, validate that the sizes conform (i.e. number of columns in the first matrix is equal to the number of rows in the second matrix).**"
   ]
  },
  {
   "cell_type": "code",
   "execution_count": 88,
   "id": "3506f977-ac0a-473f-85bc-eec9f35dc498",
   "metadata": {},
   "outputs": [
    {
     "name": "stdout",
     "output_type": "stream",
     "text": [
      "result of add matrix k and matrix l is: [4 6]\n",
      "result of multiply matrix k and matrix l is: [3 8]\n"
     ]
    }
   ],
   "source": [
    "def add_mult_matrices(v1, v2, func):\n",
    "    if func == \"add\":\n",
    "        result = v1 + v2\n",
    "    elif func == \"multiply\":\n",
    "        result = v1*v2\n",
    "    else:\n",
    "        raise ValuError(\"use add or multiply\")\n",
    "    return result\n",
    "\n",
    "k = np.array([1,2])\n",
    "l = np.array([3,4])\n",
    "c = add_mult_matrices(v1=k, v2=l, func=\"add\")\n",
    "d = add_mult_matrices(v1=k, v2=l, func=\"multiply\")\n",
    "print('result of add matrix k and matrix l is:',c)\n",
    "print('result of multiply matrix k and matrix l is:',d)"
   ]
  },
  {
   "cell_type": "markdown",
   "id": "8dad82d0-2359-4dff-8f5b-a57d3e34103c",
   "metadata": {},
   "source": [
    "### Solve all the exercises in chapter 10.1 in the book \"Matematik för yrkeshögskolan\". "
   ]
  },
  {
   "cell_type": "code",
   "execution_count": 175,
   "id": "89df88af-3668-4d98-a0a4-e6d92eea0f89",
   "metadata": {},
   "outputs": [
    {
     "data": {
      "text/plain": [
       "array([4, 3])"
      ]
     },
     "execution_count": 175,
     "metadata": {},
     "output_type": "execute_result"
    }
   ],
   "source": [
    "x = np.array([4,3])\n",
    "x"
   ]
  },
  {
   "cell_type": "code",
   "execution_count": 177,
   "id": "317b1fb6-daf9-4219-967e-6a5ea4889fe4",
   "metadata": {},
   "outputs": [
    {
     "data": {
      "text/plain": [
       "2"
      ]
     },
     "execution_count": 177,
     "metadata": {},
     "output_type": "execute_result"
    }
   ],
   "source": [
    "#Vilken dimension har vektorn x?\n",
    "y = len(x)\n",
    "y"
   ]
  },
  {
   "cell_type": "code",
   "execution_count": 179,
   "id": "1ae501ea-6fc0-405f-a6b5-431a84880fca",
   "metadata": {},
   "outputs": [
    {
     "name": "stdout",
     "output_type": "stream",
     "text": [
      "[20 15]\n"
     ]
    }
   ],
   "source": [
    "#Beräkna 5x\n",
    "z = 5*x\n",
    "print(z)"
   ]
  },
  {
   "cell_type": "code",
   "execution_count": 181,
   "id": "12c53938-4942-4411-91ef-5cc618f2f022",
   "metadata": {},
   "outputs": [
    {
     "name": "stdout",
     "output_type": "stream",
     "text": [
      "[12  9]\n"
     ]
    }
   ],
   "source": [
    "#Beräkna 3x\n",
    "t = 3*x\n",
    "print(t)"
   ]
  },
  {
   "cell_type": "code",
   "execution_count": 183,
   "id": "e180b53f-926f-4e03-a04d-f43f9a27f03e",
   "metadata": {},
   "outputs": [
    {
     "name": "stdout",
     "output_type": "stream",
     "text": [
      "[32 24]\n"
     ]
    }
   ],
   "source": [
    "#Beräkna 5x + 3x\n",
    "f = z + t\n",
    "print(f)"
   ]
  },
  {
   "cell_type": "code",
   "execution_count": 185,
   "id": "a61357da-8f40-4e06-a7e9-065dc87fd205",
   "metadata": {},
   "outputs": [
    {
     "name": "stdout",
     "output_type": "stream",
     "text": [
      "[32 24]\n"
     ]
    }
   ],
   "source": [
    "#Beräkna 8x\n",
    "d = 8*x\n",
    "print(d)"
   ]
  },
  {
   "cell_type": "code",
   "execution_count": 187,
   "id": "19d20655-67e6-421e-842b-9c8e1b0fa50c",
   "metadata": {},
   "outputs": [
    {
     "name": "stdout",
     "output_type": "stream",
     "text": [
      "[12  9]\n"
     ]
    }
   ],
   "source": [
    "#Beräkna 4x - x\n",
    "i = 4*x - x\n",
    "print(i)"
   ]
  },
  {
   "cell_type": "code",
   "execution_count": 189,
   "id": "0b3ffaf0-044d-46ea-81f2-245e2978a15e",
   "metadata": {},
   "outputs": [
    {
     "name": "stdout",
     "output_type": "stream",
     "text": [
      "[4 3]\n"
     ]
    }
   ],
   "source": [
    "#transpose x\n",
    "zi = x.transpose()\n",
    "print(zi)"
   ]
  },
  {
   "cell_type": "code",
   "execution_count": 191,
   "id": "e0124519-40fa-49fa-8b2b-505606173914",
   "metadata": {},
   "outputs": [
    {
     "data": {
      "text/plain": [
       "2"
      ]
     },
     "execution_count": 191,
     "metadata": {},
     "output_type": "execute_result"
    }
   ],
   "source": [
    "x = np.array([4,3])\n",
    "zit = len(x.transpose())\n",
    "zit"
   ]
  },
  {
   "cell_type": "code",
   "execution_count": 193,
   "id": "2a89ea35-08f7-4a2d-9783-7656691ab35d",
   "metadata": {},
   "outputs": [
    {
     "name": "stdout",
     "output_type": "stream",
     "text": [
      "[8 6]\n"
     ]
    }
   ],
   "source": [
    "#Är x + x.transpose() definierat?\n",
    "abc = x + x.transpose()\n",
    "print(abc)"
   ]
  },
  {
   "cell_type": "code",
   "execution_count": 195,
   "id": "644de7ea-4231-4f12-93eb-61fef2df9116",
   "metadata": {},
   "outputs": [
    {
     "name": "stdout",
     "output_type": "stream",
     "text": [
      "5.0\n"
     ]
    }
   ],
   "source": [
    "#Beräkna np.sqrt(x.transpose()*x)\n",
    "x = np.array([4,3])\n",
    "abcd = np.sqrt(np.dot(x,x.T))\n",
    "print(abcd)"
   ]
  },
  {
   "cell_type": "markdown",
   "id": "75c98984-1f88-4df1-b850-d2466de444a5",
   "metadata": {},
   "source": [
    "### Solve all the exercises, except 10.2.4, in chapter 10.2 in the book \"Matematik för yrkeshögskolan\". "
   ]
  },
  {
   "cell_type": "code",
   "execution_count": 253,
   "id": "d6ebe384-5527-49f9-b580-a2fe3fd224af",
   "metadata": {},
   "outputs": [],
   "source": [
    "#10.2.1"
   ]
  },
  {
   "cell_type": "code",
   "execution_count": 255,
   "id": "969e8b25-c134-4de9-b797-e41d3bfb99fb",
   "metadata": {},
   "outputs": [
    {
     "name": "stdout",
     "output_type": "stream",
     "text": [
      "[[ 2  1 -1]\n",
      " [ 1 -1  1]]\n"
     ]
    }
   ],
   "source": [
    "A = np.array([[2,1,-1],[1,-1,1]])\n",
    "print(A)"
   ]
  },
  {
   "cell_type": "code",
   "execution_count": 257,
   "id": "65862338-be61-404d-a964-f234c096e8e5",
   "metadata": {},
   "outputs": [
    {
     "name": "stdout",
     "output_type": "stream",
     "text": [
      "[[ 4 -2  1]\n",
      " [ 2 -4 -2]]\n"
     ]
    }
   ],
   "source": [
    "B = np.array([[4,-2,1],[2,-4,-2]])\n",
    "print(B)"
   ]
  },
  {
   "cell_type": "code",
   "execution_count": 259,
   "id": "b2442aef-a1be-49fc-807f-93d476dbe757",
   "metadata": {},
   "outputs": [
    {
     "name": "stdout",
     "output_type": "stream",
     "text": [
      "[[1 2]\n",
      " [2 1]]\n"
     ]
    }
   ],
   "source": [
    "C = np.array([[1,2],[2,1]])\n",
    "print(C)"
   ]
  },
  {
   "cell_type": "code",
   "execution_count": 261,
   "id": "6e78c1ef-8597-429d-b366-2d8f552f8ce0",
   "metadata": {},
   "outputs": [
    {
     "name": "stdout",
     "output_type": "stream",
     "text": [
      "[[3 4]\n",
      " [4 3]]\n"
     ]
    }
   ],
   "source": [
    "D = np.array([[3,4],[4,3]])\n",
    "print(D)"
   ]
  },
  {
   "cell_type": "code",
   "execution_count": 263,
   "id": "e04caf45-3b0e-4822-87f2-b7596ebcf326",
   "metadata": {},
   "outputs": [
    {
     "name": "stdout",
     "output_type": "stream",
     "text": [
      "[1 2]\n"
     ]
    }
   ],
   "source": [
    "E = np.array([1,2])\n",
    "print(E)"
   ]
  },
  {
   "cell_type": "code",
   "execution_count": 265,
   "id": "603f7685-2324-47ad-8e5c-801be6afab0c",
   "metadata": {},
   "outputs": [
    {
     "name": "stdout",
     "output_type": "stream",
     "text": [
      "[[1 0]\n",
      " [0 1]]\n"
     ]
    }
   ],
   "source": [
    "I = np.array([[1,0],[0,1]])\n",
    "print(I)"
   ]
  },
  {
   "cell_type": "code",
   "execution_count": 267,
   "id": "90eb3723-c4a1-4984-a5f7-6552046a4833",
   "metadata": {},
   "outputs": [
    {
     "data": {
      "text/plain": [
       "array([[ 4,  2, -2],\n",
       "       [ 2, -2,  2]])"
      ]
     },
     "execution_count": 267,
     "metadata": {},
     "output_type": "execute_result"
    }
   ],
   "source": [
    "#(a) 2A\n",
    "2*A"
   ]
  },
  {
   "cell_type": "code",
   "execution_count": 269,
   "id": "029ec58f-003f-4b11-98a8-890f195036c5",
   "metadata": {},
   "outputs": [
    {
     "data": {
      "text/plain": [
       "array([[ 0, -4,  3],\n",
       "       [ 0, -2, -4]])"
      ]
     },
     "execution_count": 269,
     "metadata": {},
     "output_type": "execute_result"
    }
   ],
   "source": [
    "#(b) B-2A\n",
    "B-2*A"
   ]
  },
  {
   "cell_type": "code",
   "execution_count": 271,
   "id": "e039dfe9-0379-4228-a9ea-88d65ca2f14a",
   "metadata": {},
   "outputs": [
    {
     "data": {
      "text/plain": [
       "array([[ 1,  2],\n",
       "       [ 4, -1]])"
      ]
     },
     "execution_count": 271,
     "metadata": {},
     "output_type": "execute_result"
    }
   ],
   "source": [
    "#(c) 3C - 2E\n",
    "3*C -2*E"
   ]
  },
  {
   "cell_type": "code",
   "execution_count": 273,
   "id": "9a80120f-d8ee-4550-b9f5-27c370e64541",
   "metadata": {},
   "outputs": [
    {
     "data": {
      "text/plain": [
       "array([[3, 2],\n",
       "       [2, 3]])"
      ]
     },
     "execution_count": 273,
     "metadata": {},
     "output_type": "execute_result"
    }
   ],
   "source": [
    "#(d) 2D - 3C\n",
    "2*D - 3*C"
   ]
  },
  {
   "cell_type": "code",
   "execution_count": 275,
   "id": "0c48cfec-1682-4d8a-8fc2-c2f932f39310",
   "metadata": {},
   "outputs": [
    {
     "data": {
      "text/plain": [
       "array([[ 9, 12],\n",
       "       [12,  9]])"
      ]
     },
     "execution_count": 275,
     "metadata": {},
     "output_type": "execute_result"
    }
   ],
   "source": [
    "#(e) D.T + 2D\n",
    "D.T + 2*D"
   ]
  },
  {
   "cell_type": "code",
   "execution_count": 277,
   "id": "ab035229-46e6-4d96-a78c-77b54c665f04",
   "metadata": {},
   "outputs": [
    {
     "data": {
      "text/plain": [
       "array([[-4, -4],\n",
       "       [-4, -4]])"
      ]
     },
     "execution_count": 277,
     "metadata": {},
     "output_type": "execute_result"
    }
   ],
   "source": [
    "#(f) 2C.T - 2D.T\n",
    "2*C.T - 2*D.T"
   ]
  },
  {
   "cell_type": "code",
   "execution_count": 333,
   "id": "dd39717f-e39f-4f4a-a165-f83e94275f3e",
   "metadata": {},
   "outputs": [
    {
     "data": {
      "text/plain": [
       "array([[-2, -1],\n",
       "       [ 3,  3],\n",
       "       [-2,  3]])"
      ]
     },
     "execution_count": 333,
     "metadata": {},
     "output_type": "execute_result"
    }
   ],
   "source": [
    "#(g) A.T -B not possible\n",
    "# A.T -B.T possible\n",
    "A.T - B.T"
   ]
  },
  {
   "cell_type": "code",
   "execution_count": 329,
   "id": "5d4ecaf8-f127-4864-8842-812082ca0076",
   "metadata": {},
   "outputs": [
    {
     "data": {
      "text/plain": [
       "array([[ 4,  5],\n",
       "       [-1,  1],\n",
       "       [ 1, -1]])"
      ]
     },
     "execution_count": 329,
     "metadata": {},
     "output_type": "execute_result"
    }
   ],
   "source": [
    "#(h) AC not possible\n",
    "# A.T*C possible\n",
    "np.dot(A.T,C)"
   ]
  },
  {
   "cell_type": "code",
   "execution_count": 307,
   "id": "646d7cb9-6dcb-426b-9472-853d3adca3a7",
   "metadata": {},
   "outputs": [
    {
     "data": {
      "text/plain": [
       "array([[3, 8],\n",
       "       [8, 3]])"
      ]
     },
     "execution_count": 307,
     "metadata": {},
     "output_type": "execute_result"
    }
   ],
   "source": [
    "#(i) CD\n",
    "C*D"
   ]
  },
  {
   "cell_type": "code",
   "execution_count": 321,
   "id": "b3ea0cd4-5913-4c2d-b759-a0ad9a5419bf",
   "metadata": {},
   "outputs": [
    {
     "data": {
      "text/plain": [
       "array([[  8, -10,  -3],\n",
       "       [ 10,  -8,   0]])"
      ]
     },
     "execution_count": 321,
     "metadata": {},
     "output_type": "execute_result"
    }
   ],
   "source": [
    "#(j) CB \n",
    "# CB not possible \n",
    "# C.T*B possible\n",
    "np.dot(C.T,B)\n"
   ]
  },
  {
   "cell_type": "code",
   "execution_count": 311,
   "id": "c87d0b39-4891-45d8-a93e-959d727c6581",
   "metadata": {},
   "outputs": [
    {
     "data": {
      "text/plain": [
       "array([[1, 0],\n",
       "       [0, 1]])"
      ]
     },
     "execution_count": 311,
     "metadata": {},
     "output_type": "execute_result"
    }
   ],
   "source": [
    "#(k) CI\n",
    "C*I"
   ]
  },
  {
   "cell_type": "code",
   "execution_count": 317,
   "id": "89e83a60-7d87-42d7-b89a-9ba22d9a7bc9",
   "metadata": {},
   "outputs": [
    {
     "data": {
      "text/plain": [
       "array([[5, 2],\n",
       "       [7, 4]])"
      ]
     },
     "execution_count": 317,
     "metadata": {},
     "output_type": "execute_result"
    }
   ],
   "source": [
    "#(l) AB.T\n",
    "np.dot(A,B.T)"
   ]
  },
  {
   "cell_type": "code",
   "execution_count": null,
   "id": "e13ed2d9-4a3e-4b30-a4f6-2623408079be",
   "metadata": {},
   "outputs": [],
   "source": [
    "#10.2.2 Beräkna A*A.T"
   ]
  },
  {
   "cell_type": "code",
   "execution_count": 199,
   "id": "b6d3bbd1-85dc-4d70-9385-c7a79b2706e7",
   "metadata": {},
   "outputs": [
    {
     "name": "stdout",
     "output_type": "stream",
     "text": [
      "[[2 3 4]\n",
      " [5 4 1]]\n"
     ]
    }
   ],
   "source": [
    "A = np.array([[2,3,4],[5,4,1]])\n",
    "print(A)"
   ]
  },
  {
   "cell_type": "code",
   "execution_count": 201,
   "id": "aec8ba34-0194-46f1-bd32-e9bc47cd92fc",
   "metadata": {},
   "outputs": [
    {
     "name": "stdout",
     "output_type": "stream",
     "text": [
      "[[2 5]\n",
      " [3 4]\n",
      " [4 1]]\n"
     ]
    }
   ],
   "source": [
    "B = A.T\n",
    "print(B)"
   ]
  },
  {
   "cell_type": "code",
   "execution_count": 207,
   "id": "40123989-10f3-452a-a1dd-afa1a02b6e00",
   "metadata": {},
   "outputs": [
    {
     "name": "stdout",
     "output_type": "stream",
     "text": [
      "[[29 26]\n",
      " [26 42]]\n"
     ]
    }
   ],
   "source": [
    "C = np.dot(A, A.T)\n",
    "print(C)"
   ]
  },
  {
   "cell_type": "code",
   "execution_count": 209,
   "id": "233ac601-e5f9-424f-a905-f3cd05cbcd2c",
   "metadata": {},
   "outputs": [],
   "source": [
    "#10.2.3"
   ]
  },
  {
   "cell_type": "code",
   "execution_count": 215,
   "id": "34663310-6db8-4d17-8592-562df9d73242",
   "metadata": {},
   "outputs": [
    {
     "name": "stdout",
     "output_type": "stream",
     "text": [
      "[[1 2]\n",
      " [2 4]]\n"
     ]
    }
   ],
   "source": [
    "A = np.array([[1,2],[2,4]])\n",
    "print(A)"
   ]
  },
  {
   "cell_type": "code",
   "execution_count": 217,
   "id": "c49b77a8-b669-4d1c-816c-a45254fb1d2d",
   "metadata": {},
   "outputs": [
    {
     "name": "stdout",
     "output_type": "stream",
     "text": [
      "[[2 1]\n",
      " [1 3]]\n"
     ]
    }
   ],
   "source": [
    "B = np.array([[2,1],[1,3]])\n",
    "print(B)"
   ]
  },
  {
   "cell_type": "code",
   "execution_count": 219,
   "id": "7bc080b9-59d2-4c1d-80ad-25a8486cdbdb",
   "metadata": {},
   "outputs": [
    {
     "name": "stdout",
     "output_type": "stream",
     "text": [
      "[[4 3]\n",
      " [0 2]]\n"
     ]
    }
   ],
   "source": [
    "C = np.array([[4,3],[0,2]])\n",
    "print(C)"
   ]
  },
  {
   "cell_type": "code",
   "execution_count": 223,
   "id": "07ce7b05-29c1-4790-a6ae-010e5810125f",
   "metadata": {},
   "outputs": [
    {
     "data": {
      "text/plain": [
       "array([[ 4,  7],\n",
       "       [ 8, 14]])"
      ]
     },
     "execution_count": 223,
     "metadata": {},
     "output_type": "execute_result"
    }
   ],
   "source": [
    "#Compute AB\n",
    "AB = np.dot(A,B)\n",
    "AB"
   ]
  },
  {
   "cell_type": "code",
   "execution_count": 225,
   "id": "25141888-c829-47c0-8e51-f26fc77b4099",
   "metadata": {},
   "outputs": [
    {
     "data": {
      "text/plain": [
       "array([[ 4,  7],\n",
       "       [ 8, 14]])"
      ]
     },
     "execution_count": 225,
     "metadata": {},
     "output_type": "execute_result"
    }
   ],
   "source": [
    "#Compute AC\n",
    "AC = np.dot(A,C)\n",
    "AC"
   ]
  },
  {
   "cell_type": "code",
   "execution_count": null,
   "id": "6035856c-63db-44ee-b37d-5431e12d99a6",
   "metadata": {},
   "outputs": [],
   "source": [
    "# One can see that AB = AC, while matrix B different to matrix C"
   ]
  },
  {
   "cell_type": "markdown",
   "id": "6a4a524f",
   "metadata": {},
   "source": [
    "### Copies and Views\n",
    "Read the following link: https://numpy.org/doc/stable/user/basics.copies.html"
   ]
  },
  {
   "cell_type": "markdown",
   "id": "6cbbeaf7",
   "metadata": {},
   "source": [
    "**Basic indexing creates a view, How can you check if v1 and v2 is a view or copy? If you change the last element in v2 to 123, will the last element in v1 be changed? Why?**"
   ]
  },
  {
   "cell_type": "code",
   "execution_count": 90,
   "id": "5b9ef4df",
   "metadata": {},
   "outputs": [
    {
     "name": "stdout",
     "output_type": "stream",
     "text": [
      "[0 1 2 3]\n",
      "[2 3]\n"
     ]
    }
   ],
   "source": [
    "v1 = np.arange(4)\n",
    "v2 = v1[-2:]\n",
    "print(v1)\n",
    "print(v2)"
   ]
  },
  {
   "cell_type": "code",
   "execution_count": 92,
   "id": "d2440489",
   "metadata": {},
   "outputs": [
    {
     "name": "stdout",
     "output_type": "stream",
     "text": [
      "None\n",
      "[0 1 2 3]\n"
     ]
    }
   ],
   "source": [
    "# The base attribute of a view returns the original array while it returns None for a copy.\n",
    "print(v1.base)\n",
    "print(v2.base)"
   ]
  },
  {
   "cell_type": "code",
   "execution_count": 94,
   "id": "c8752807",
   "metadata": {},
   "outputs": [
    {
     "name": "stdout",
     "output_type": "stream",
     "text": [
      "[  0   1   2 123]\n",
      "[  2 123]\n"
     ]
    }
   ],
   "source": [
    "# The last element in v1 will be changed aswell since v2 is a view, meaning they share the same data buffer.\n",
    "v2[-1] = 123\n",
    "print(v1)\n",
    "print(v2)"
   ]
  }
 ],
 "metadata": {
  "kernelspec": {
   "display_name": "Python 3 (ipykernel)",
   "language": "python",
   "name": "python3"
  },
  "language_info": {
   "codemirror_mode": {
    "name": "ipython",
    "version": 3
   },
   "file_extension": ".py",
   "mimetype": "text/x-python",
   "name": "python",
   "nbconvert_exporter": "python",
   "pygments_lexer": "ipython3",
   "version": "3.12.4"
  }
 },
 "nbformat": 4,
 "nbformat_minor": 5
}
